{
 "cells": [
  {
   "cell_type": "markdown",
   "metadata": {},
   "source": [
    "# WeatherPy\n",
    "----\n",
    "\n",
    "#### Note\n",
    "* Instructions have been included for each segment. You do not have to follow them exactly, but they are included to help you think through the steps."
   ]
  },
  {
   "cell_type": "code",
   "execution_count": 3,
   "metadata": {
    "scrolled": true
   },
   "outputs": [],
   "source": [
    "# Dependencies and Setup\n",
    "import matplotlib.pyplot as plt\n",
    "import pandas as pd\n",
    "import numpy as np\n",
    "import requests\n",
    "import time\n",
    "from scipy.stats import linregress\n",
    "\n",
    "# Import API key\n",
    "from api_keys import weather_api_key\n",
    "\n",
    "# Incorporated citipy to determine city based on latitude and longitude\n",
    "from citipy import citipy\n",
    "\n",
    "# Output File (CSV)\n",
    "output_data_file = \"output_data/cities.csv\"\n",
    "\n",
    "# Range of latitudes and longitudes\n",
    "lat_range = (-90, 90)\n",
    "lng_range = (-180, 180)"
   ]
  },
  {
   "cell_type": "markdown",
   "metadata": {},
   "source": [
    "## Generate Cities List"
   ]
  },
  {
   "cell_type": "code",
   "execution_count": 4,
   "metadata": {},
   "outputs": [
    {
     "data": {
      "text/plain": [
       "630"
      ]
     },
     "execution_count": 4,
     "metadata": {},
     "output_type": "execute_result"
    }
   ],
   "source": [
    "# List for holding lat_lngs and cities\n",
    "lat_lngs = []\n",
    "cities = []\n",
    "\n",
    "# Create a set of random lat and lng combinations\n",
    "lats = np.random.uniform(lat_range[0], lat_range[1], size=1500)\n",
    "lngs = np.random.uniform(lng_range[0], lng_range[1], size=1500)\n",
    "lat_lngs = zip(lats, lngs)\n",
    "\n",
    "# Identify nearest city for each lat, lng combination\n",
    "for lat_lng in lat_lngs:\n",
    "    city = citipy.nearest_city(lat_lng[0], lat_lng[1]).city_name\n",
    "    \n",
    "    # If the city is unique, then add it to a our cities list\n",
    "    if city not in cities:\n",
    "        cities.append(city)\n",
    "\n",
    "# Print the city count to confirm sufficient count\n",
    "len(cities)"
   ]
  },
  {
   "cell_type": "markdown",
   "metadata": {},
   "source": [
    "### Perform API Calls\n",
    "* Perform a weather check on each city using a series of successive API calls.\n",
    "* Include a print log of each city as it'sbeing processed (with the city number and city name).\n"
   ]
  },
  {
   "cell_type": "code",
   "execution_count": 5,
   "metadata": {
    "scrolled": true
   },
   "outputs": [
    {
     "name": "stdout",
     "output_type": "stream",
     "text": [
      "Beginning Data Retrieval \n",
      "-----------------------------\n",
      "Processing Record 1 of Set 1 : pilar\n",
      "Processing Record 2 of Set 1 : sennoy\n",
      "City not found. Skipping...\n",
      "Processing Record 3 of Set 1 : longyearbyen\n",
      "Processing Record 4 of Set 1 : valparaiso\n",
      "Processing Record 5 of Set 1 : busselton\n",
      "Processing Record 6 of Set 1 : hermanus\n",
      "Processing Record 7 of Set 1 : la romana\n",
      "Processing Record 8 of Set 1 : cermik\n",
      "Processing Record 9 of Set 1 : hobart\n",
      "Processing Record 10 of Set 1 : agirish\n",
      "Processing Record 11 of Set 1 : jamestown\n",
      "Processing Record 12 of Set 1 : punta arenas\n",
      "Processing Record 13 of Set 1 : tasiilaq\n",
      "Processing Record 14 of Set 1 : carnarvon\n",
      "Processing Record 15 of Set 1 : dawlatabad\n",
      "Processing Record 16 of Set 1 : san patricio\n",
      "Processing Record 17 of Set 1 : bilibino\n",
      "Processing Record 18 of Set 1 : qaanaaq\n",
      "Processing Record 19 of Set 1 : belyy yar\n",
      "Processing Record 20 of Set 1 : kapaa\n",
      "Processing Record 21 of Set 1 : rikitea\n",
      "Processing Record 22 of Set 1 : fremont\n",
      "Processing Record 23 of Set 1 : saint-philippe\n",
      "Processing Record 24 of Set 1 : mataura\n",
      "Processing Record 25 of Set 1 : hilo\n",
      "City not found. Skipping...\n",
      "Processing Record 26 of Set 1 : east london\n",
      "Processing Record 27 of Set 1 : puerto ayora\n",
      "Processing Record 28 of Set 1 : bethel\n",
      "City not found. Skipping...\n",
      "City not found. Skipping...\n",
      "Processing Record 29 of Set 1 : orahovac\n",
      "Processing Record 30 of Set 1 : chuy\n",
      "Processing Record 31 of Set 1 : rawson\n",
      "Processing Record 32 of Set 1 : narsaq\n",
      "Processing Record 33 of Set 1 : cape town\n",
      "Processing Record 34 of Set 1 : morondava\n",
      "Processing Record 35 of Set 1 : nikolskoye\n",
      "Processing Record 36 of Set 1 : oranjemund\n",
      "Processing Record 37 of Set 1 : nizwa\n",
      "Processing Record 38 of Set 1 : benguela\n",
      "Processing Record 39 of Set 1 : avarua\n",
      "City not found. Skipping...\n",
      "Processing Record 40 of Set 1 : butaritari\n",
      "Processing Record 41 of Set 1 : hithadhoo\n",
      "Processing Record 42 of Set 1 : adrar\n",
      "Processing Record 43 of Set 1 : sinnamary\n",
      "Processing Record 44 of Set 1 : katsuura\n",
      "Processing Record 45 of Set 1 : khatanga\n",
      "Processing Record 46 of Set 1 : araouane\n",
      "Processing Record 47 of Set 1 : provideniya\n",
      "Processing Record 48 of Set 1 : tiksi\n",
      "Processing Record 49 of Set 1 : wenling\n",
      "Processing Record 50 of Set 1 : owando\n",
      "Processing Record 0 of Set 2 : sitka\n",
      "Processing Record 1 of Set 2 : port elizabeth\n",
      "Processing Record 2 of Set 2 : kondopoga\n",
      "Processing Record 3 of Set 2 : ancud\n",
      "Processing Record 4 of Set 2 : kavaratti\n",
      "Processing Record 5 of Set 2 : tuatapere\n",
      "Processing Record 6 of Set 2 : ushuaia\n",
      "Processing Record 7 of Set 2 : quang ngai\n",
      "Processing Record 8 of Set 2 : ambon\n",
      "Processing Record 9 of Set 2 : novomikhaylovskiy\n",
      "Processing Record 10 of Set 2 : bredasdorp\n",
      "Processing Record 11 of Set 2 : fairbanks\n",
      "Processing Record 12 of Set 2 : airai\n",
      "Processing Record 13 of Set 2 : paysandu\n",
      "Processing Record 14 of Set 2 : amvrosiyivka\n",
      "Processing Record 15 of Set 2 : rudnichnyy\n",
      "Processing Record 16 of Set 2 : dobra\n",
      "Processing Record 17 of Set 2 : hobyo\n",
      "Processing Record 18 of Set 2 : bubaque\n",
      "Processing Record 19 of Set 2 : inverness\n",
      "Processing Record 20 of Set 2 : castro\n",
      "Processing Record 21 of Set 2 : upernavik\n",
      "Processing Record 22 of Set 2 : torbay\n",
      "City not found. Skipping...\n",
      "Processing Record 23 of Set 2 : yerofey pavlovich\n",
      "Processing Record 24 of Set 2 : clyde river\n",
      "Processing Record 25 of Set 2 : olafsvik\n",
      "Processing Record 26 of Set 2 : sao filipe\n",
      "Processing Record 27 of Set 2 : ponta do sol\n",
      "Processing Record 28 of Set 2 : kieta\n",
      "Processing Record 29 of Set 2 : champerico\n",
      "Processing Record 30 of Set 2 : gao\n",
      "Processing Record 31 of Set 2 : tuktoyaktuk\n",
      "Processing Record 32 of Set 2 : cidreira\n",
      "Processing Record 33 of Set 2 : gushikawa\n",
      "City not found. Skipping...\n",
      "Processing Record 34 of Set 2 : aksarka\n",
      "Processing Record 35 of Set 2 : port alfred\n",
      "Processing Record 36 of Set 2 : pacific grove\n",
      "Processing Record 37 of Set 2 : zhigansk\n",
      "Processing Record 38 of Set 2 : dudinka\n",
      "Processing Record 39 of Set 2 : bluff\n",
      "Processing Record 40 of Set 2 : vila franca do campo\n",
      "Processing Record 41 of Set 2 : coquimbo\n",
      "Processing Record 42 of Set 2 : touros\n",
      "City not found. Skipping...\n",
      "Processing Record 43 of Set 2 : mount gambier\n",
      "Processing Record 44 of Set 2 : naze\n",
      "Processing Record 45 of Set 2 : pacifica\n",
      "City not found. Skipping...\n",
      "Processing Record 46 of Set 2 : atuona\n",
      "Processing Record 47 of Set 2 : kodiak\n",
      "Processing Record 48 of Set 2 : barrow\n",
      "Processing Record 49 of Set 2 : rundu\n",
      "Processing Record 50 of Set 2 : bjerkvik\n",
      "Processing Record 0 of Set 3 : russkiy aktash\n",
      "Processing Record 1 of Set 3 : esperance\n",
      "Processing Record 2 of Set 3 : keti bandar\n",
      "Processing Record 3 of Set 3 : ust-ordynskiy\n",
      "Processing Record 4 of Set 3 : van\n",
      "Processing Record 5 of Set 3 : talnakh\n",
      "Processing Record 6 of Set 3 : sainte-marie\n",
      "Processing Record 7 of Set 3 : albany\n",
      "Processing Record 8 of Set 3 : ostrovnoy\n",
      "Processing Record 9 of Set 3 : sola\n",
      "Processing Record 10 of Set 3 : hoquiam\n",
      "Processing Record 11 of Set 3 : teahupoo\n",
      "Processing Record 12 of Set 3 : wonthaggi\n",
      "Processing Record 13 of Set 3 : esso\n",
      "Processing Record 14 of Set 3 : souillac\n",
      "Processing Record 15 of Set 3 : stornoway\n",
      "City not found. Skipping...\n",
      "Processing Record 16 of Set 3 : acarau\n",
      "City not found. Skipping...\n",
      "Processing Record 17 of Set 3 : udachnyy\n",
      "Processing Record 18 of Set 3 : hailar\n",
      "Processing Record 19 of Set 3 : shenjiamen\n",
      "Processing Record 20 of Set 3 : cabo san lucas\n",
      "Processing Record 21 of Set 3 : geraldton\n",
      "Processing Record 22 of Set 3 : lompoc\n",
      "Processing Record 23 of Set 3 : arraial do cabo\n",
      "Processing Record 24 of Set 3 : hami\n",
      "Processing Record 25 of Set 3 : manaus\n",
      "Processing Record 26 of Set 3 : liverpool\n",
      "Processing Record 27 of Set 3 : keetmanshoop\n",
      "City not found. Skipping...\n",
      "Processing Record 28 of Set 3 : petrovskoye\n",
      "City not found. Skipping...\n",
      "Processing Record 29 of Set 3 : vardo\n",
      "City not found. Skipping...\n",
      "Processing Record 30 of Set 3 : iquique\n",
      "Processing Record 31 of Set 3 : nisia floresta\n",
      "Processing Record 32 of Set 3 : avera\n",
      "City not found. Skipping...\n",
      "Processing Record 33 of Set 3 : alice springs\n",
      "Processing Record 34 of Set 3 : tautira\n",
      "Processing Record 35 of Set 3 : mahebourg\n",
      "Processing Record 36 of Set 3 : broome\n",
      "Processing Record 37 of Set 3 : inta\n",
      "City not found. Skipping...\n",
      "Processing Record 38 of Set 3 : doha\n",
      "Processing Record 39 of Set 3 : ahipara\n",
      "Processing Record 40 of Set 3 : manvi\n",
      "City not found. Skipping...\n",
      "Processing Record 41 of Set 3 : petropavlovka\n",
      "Processing Record 42 of Set 3 : vaini\n",
      "Processing Record 43 of Set 3 : sosnovoborsk\n",
      "Processing Record 44 of Set 3 : mehamn\n",
      "Processing Record 45 of Set 3 : anadyr\n",
      "Processing Record 46 of Set 3 : iztapa\n",
      "Processing Record 47 of Set 3 : svetlogorsk\n",
      "Processing Record 48 of Set 3 : salinas\n",
      "Processing Record 49 of Set 3 : xiaoshi\n",
      "Processing Record 50 of Set 3 : marzuq\n",
      "Processing Record 0 of Set 4 : bambous virieux\n",
      "Processing Record 1 of Set 4 : port hedland\n",
      "Processing Record 2 of Set 4 : grand gaube\n",
      "Processing Record 3 of Set 4 : san cristobal\n",
      "City not found. Skipping...\n",
      "Processing Record 4 of Set 4 : georgetown\n",
      "Processing Record 5 of Set 4 : paka\n",
      "City not found. Skipping...\n",
      "Processing Record 6 of Set 4 : pevek\n",
      "Processing Record 7 of Set 4 : tilichiki\n",
      "Processing Record 8 of Set 4 : tangkak\n",
      "Processing Record 9 of Set 4 : guilin\n",
      "Processing Record 10 of Set 4 : shawinigan\n",
      "Processing Record 11 of Set 4 : yilan\n",
      "Processing Record 12 of Set 4 : krasnoselkup\n",
      "Processing Record 13 of Set 4 : innisfail\n",
      "Processing Record 14 of Set 4 : eureka\n",
      "City not found. Skipping...\n",
      "Processing Record 15 of Set 4 : armidale\n",
      "Processing Record 16 of Set 4 : saint-denis\n",
      "Processing Record 17 of Set 4 : iguape\n",
      "Processing Record 18 of Set 4 : evensk\n",
      "Processing Record 19 of Set 4 : thinadhoo\n",
      "Processing Record 20 of Set 4 : thompson\n",
      "Processing Record 21 of Set 4 : yellowknife\n",
      "Processing Record 22 of Set 4 : swan hill\n",
      "Processing Record 23 of Set 4 : shimanovsk\n",
      "Processing Record 24 of Set 4 : watertown\n",
      "Processing Record 25 of Set 4 : bowen\n",
      "Processing Record 26 of Set 4 : kapoeta\n",
      "Processing Record 27 of Set 4 : bandarbeyla\n",
      "Processing Record 28 of Set 4 : mackay\n",
      "Processing Record 29 of Set 4 : hecun\n",
      "Processing Record 30 of Set 4 : desbiens\n",
      "Processing Record 31 of Set 4 : yulara\n",
      "Processing Record 32 of Set 4 : port said\n"
     ]
    },
    {
     "name": "stdout",
     "output_type": "stream",
     "text": [
      "Processing Record 33 of Set 4 : saint-michel-des-saints\n",
      "Processing Record 34 of Set 4 : healesville\n",
      "Processing Record 35 of Set 4 : chase\n",
      "Processing Record 36 of Set 4 : chokurdakh\n",
      "City not found. Skipping...\n",
      "Processing Record 37 of Set 4 : duartina\n",
      "Processing Record 38 of Set 4 : lazarev\n",
      "Processing Record 39 of Set 4 : codrington\n",
      "Processing Record 40 of Set 4 : deputatskiy\n",
      "Processing Record 41 of Set 4 : faya\n",
      "Processing Record 42 of Set 4 : padang\n",
      "Processing Record 43 of Set 4 : victor harbor\n",
      "Processing Record 44 of Set 4 : tarakan\n",
      "City not found. Skipping...\n",
      "Processing Record 45 of Set 4 : yar-sale\n",
      "Processing Record 46 of Set 4 : osoyoos\n",
      "Processing Record 47 of Set 4 : rincon\n",
      "Processing Record 48 of Set 4 : fort morgan\n",
      "Processing Record 49 of Set 4 : gonbad-e qabus\n",
      "Processing Record 50 of Set 4 : bathsheba\n",
      "Processing Record 0 of Set 5 : sistranda\n",
      "Processing Record 1 of Set 5 : belaya gora\n",
      "Processing Record 2 of Set 5 : aklavik\n",
      "Processing Record 3 of Set 5 : ati\n",
      "Processing Record 4 of Set 5 : igarka\n",
      "Processing Record 5 of Set 5 : makaryev\n",
      "Processing Record 6 of Set 5 : siva\n",
      "Processing Record 7 of Set 5 : rock sound\n",
      "Processing Record 8 of Set 5 : vaulx-en-velin\n",
      "Processing Record 9 of Set 5 : saskylakh\n",
      "Processing Record 10 of Set 5 : lerwick\n",
      "Processing Record 11 of Set 5 : puerto escondido\n",
      "Processing Record 12 of Set 5 : xuanzhou\n",
      "Processing Record 13 of Set 5 : ribeira grande\n",
      "Processing Record 14 of Set 5 : brightwater\n",
      "Processing Record 15 of Set 5 : manicore\n",
      "Processing Record 16 of Set 5 : ambanja\n",
      "Processing Record 17 of Set 5 : nuevo progreso\n",
      "Processing Record 18 of Set 5 : gamba\n",
      "City not found. Skipping...\n",
      "Processing Record 19 of Set 5 : tual\n",
      "Processing Record 20 of Set 5 : sambava\n",
      "Processing Record 21 of Set 5 : namibe\n",
      "City not found. Skipping...\n",
      "Processing Record 22 of Set 5 : sembe\n",
      "Processing Record 23 of Set 5 : new norfolk\n",
      "Processing Record 24 of Set 5 : tahlequah\n",
      "Processing Record 25 of Set 5 : sao joao da barra\n",
      "Processing Record 26 of Set 5 : nanortalik\n",
      "Processing Record 27 of Set 5 : okhotsk\n",
      "Processing Record 28 of Set 5 : crotone\n",
      "Processing Record 29 of Set 5 : berdigestyakh\n",
      "Processing Record 30 of Set 5 : shelburne\n",
      "Processing Record 31 of Set 5 : angoche\n",
      "Processing Record 32 of Set 5 : yenagoa\n",
      "Processing Record 33 of Set 5 : tessalit\n",
      "Processing Record 34 of Set 5 : polyarnyy\n",
      "Processing Record 35 of Set 5 : koluszki\n",
      "Processing Record 36 of Set 5 : kruisfontein\n",
      "Processing Record 37 of Set 5 : dingle\n",
      "Processing Record 38 of Set 5 : merrill\n",
      "Processing Record 39 of Set 5 : isangel\n",
      "Processing Record 40 of Set 5 : antalaha\n",
      "Processing Record 41 of Set 5 : veliko gradiste\n",
      "Processing Record 42 of Set 5 : talaya\n",
      "City not found. Skipping...\n",
      "Processing Record 43 of Set 5 : madoc\n",
      "Processing Record 44 of Set 5 : fortuna\n",
      "City not found. Skipping...\n",
      "Processing Record 45 of Set 5 : klaksvik\n",
      "Processing Record 46 of Set 5 : victoria\n",
      "Processing Record 47 of Set 5 : paita\n",
      "Processing Record 48 of Set 5 : antofagasta\n",
      "Processing Record 49 of Set 5 : dikson\n",
      "Processing Record 50 of Set 5 : port hawkesbury\n",
      "Processing Record 0 of Set 6 : arroyo\n",
      "Processing Record 1 of Set 6 : panaba\n",
      "Processing Record 2 of Set 6 : la ronge\n",
      "Processing Record 3 of Set 6 : svetlaya\n",
      "Processing Record 4 of Set 6 : sandakan\n",
      "Processing Record 5 of Set 6 : zlynka\n",
      "Processing Record 6 of Set 6 : cariati\n",
      "Processing Record 7 of Set 6 : minab\n",
      "Processing Record 8 of Set 6 : praia\n",
      "Processing Record 9 of Set 6 : petropavlovsk-kamchatskiy\n",
      "Processing Record 10 of Set 6 : arlit\n",
      "Processing Record 11 of Set 6 : kilindoni\n",
      "City not found. Skipping...\n",
      "Processing Record 12 of Set 6 : matagami\n",
      "City not found. Skipping...\n",
      "Processing Record 13 of Set 6 : saldanha\n",
      "Processing Record 14 of Set 6 : guntur\n",
      "Processing Record 15 of Set 6 : tetela de ocampo\n",
      "Processing Record 16 of Set 6 : sainte-suzanne\n",
      "Processing Record 17 of Set 6 : celina\n",
      "Processing Record 18 of Set 6 : asau\n",
      "Processing Record 19 of Set 6 : progreso\n",
      "Processing Record 20 of Set 6 : sao desiderio\n",
      "Processing Record 21 of Set 6 : lachi\n",
      "Processing Record 22 of Set 6 : madhogarh\n",
      "Processing Record 23 of Set 6 : chunoyar\n",
      "Processing Record 24 of Set 6 : swakopmund\n",
      "Processing Record 25 of Set 6 : shakawe\n",
      "Processing Record 26 of Set 6 : cowra\n",
      "Processing Record 27 of Set 6 : rocky mountain house\n",
      "Processing Record 28 of Set 6 : tura\n",
      "Processing Record 29 of Set 6 : leningradskiy\n",
      "Processing Record 30 of Set 6 : mar del plata\n",
      "Processing Record 31 of Set 6 : ambilobe\n",
      "Processing Record 32 of Set 6 : marquette\n",
      "Processing Record 33 of Set 6 : lebu\n",
      "Processing Record 34 of Set 6 : sydney\n",
      "Processing Record 35 of Set 6 : batemans bay\n",
      "Processing Record 36 of Set 6 : meadow lake\n",
      "Processing Record 37 of Set 6 : morehead\n",
      "Processing Record 38 of Set 6 : shemonaikha\n",
      "Processing Record 39 of Set 6 : irbeyskoye\n",
      "Processing Record 40 of Set 6 : jumla\n",
      "Processing Record 41 of Set 6 : dhankuta\n",
      "Processing Record 42 of Set 6 : nelson bay\n",
      "Processing Record 43 of Set 6 : wajima\n",
      "Processing Record 44 of Set 6 : chake chake\n",
      "City not found. Skipping...\n",
      "Processing Record 45 of Set 6 : kainantu\n",
      "Processing Record 46 of Set 6 : guerrero negro\n",
      "Processing Record 47 of Set 6 : eydhafushi\n",
      "Processing Record 48 of Set 6 : erdenet\n",
      "Processing Record 49 of Set 6 : valley station\n",
      "Processing Record 50 of Set 6 : nadym\n",
      "Processing Record 0 of Set 7 : seddon\n",
      "Processing Record 1 of Set 7 : nantucket\n",
      "Processing Record 2 of Set 7 : pangoa\n",
      "Processing Record 3 of Set 7 : lagos\n",
      "Processing Record 4 of Set 7 : umm lajj\n",
      "City not found. Skipping...\n",
      "Processing Record 5 of Set 7 : flin flon\n",
      "Processing Record 6 of Set 7 : severo-kurilsk\n",
      "Processing Record 7 of Set 7 : harper\n",
      "Processing Record 8 of Set 7 : chihuahua\n",
      "City not found. Skipping...\n",
      "City not found. Skipping...\n",
      "Processing Record 9 of Set 7 : niquero\n",
      "Processing Record 10 of Set 7 : dongying\n",
      "Processing Record 11 of Set 7 : te anau\n",
      "City not found. Skipping...\n",
      "Processing Record 12 of Set 7 : dedza\n",
      "Processing Record 13 of Set 7 : lukovetskiy\n",
      "Processing Record 14 of Set 7 : hovd\n",
      "Processing Record 15 of Set 7 : lorengau\n",
      "City not found. Skipping...\n",
      "Processing Record 16 of Set 7 : san francisco menendez\n",
      "Processing Record 17 of Set 7 : shar\n",
      "Processing Record 18 of Set 7 : kodinsk\n",
      "Processing Record 19 of Set 7 : plyussa\n",
      "Processing Record 20 of Set 7 : mehriz\n",
      "Processing Record 21 of Set 7 : kalmunai\n",
      "Processing Record 22 of Set 7 : bell ville\n",
      "Processing Record 23 of Set 7 : kahului\n",
      "Processing Record 24 of Set 7 : matara\n",
      "Processing Record 25 of Set 7 : cayenne\n",
      "Processing Record 26 of Set 7 : joshimath\n",
      "City not found. Skipping...\n",
      "Processing Record 27 of Set 7 : kouroussa\n",
      "Processing Record 28 of Set 7 : bratsk\n",
      "Processing Record 29 of Set 7 : norman wells\n",
      "Processing Record 30 of Set 7 : belmonte\n",
      "Processing Record 31 of Set 7 : mount isa\n",
      "Processing Record 32 of Set 7 : college\n",
      "Processing Record 33 of Set 7 : teberda\n",
      "Processing Record 34 of Set 7 : port hardy\n",
      "Processing Record 35 of Set 7 : maceio\n",
      "Processing Record 36 of Set 7 : gorontalo\n",
      "Processing Record 37 of Set 7 : christchurch\n",
      "Processing Record 38 of Set 7 : auki\n",
      "Processing Record 39 of Set 7 : naples\n",
      "Processing Record 40 of Set 7 : batagay-alyta\n",
      "Processing Record 41 of Set 7 : hay river\n",
      "Processing Record 42 of Set 7 : somers point\n",
      "Processing Record 43 of Set 7 : srednekolymsk\n",
      "Processing Record 44 of Set 7 : jauja\n",
      "City not found. Skipping...\n",
      "Processing Record 45 of Set 7 : galesong\n",
      "Processing Record 46 of Set 7 : grand forks\n",
      "Processing Record 47 of Set 7 : muros\n",
      "Processing Record 48 of Set 7 : luanda\n",
      "Processing Record 49 of Set 7 : pontes e lacerda\n",
      "Processing Record 50 of Set 7 : changying\n",
      "Processing Record 0 of Set 8 : jega\n",
      "Processing Record 1 of Set 8 : ugoofaaru\n",
      "City not found. Skipping...\n",
      "Processing Record 2 of Set 8 : eatonton\n",
      "Processing Record 3 of Set 8 : gladstone\n",
      "Processing Record 4 of Set 8 : bengkulu\n",
      "Processing Record 5 of Set 8 : akdepe\n",
      "Processing Record 6 of Set 8 : bonavista\n",
      "Processing Record 7 of Set 8 : hasaki\n",
      "Processing Record 8 of Set 8 : moree\n",
      "Processing Record 9 of Set 8 : ulagan\n",
      "Processing Record 10 of Set 8 : namatanai\n",
      "Processing Record 11 of Set 8 : ola\n",
      "Processing Record 12 of Set 8 : halifax\n",
      "Processing Record 13 of Set 8 : hambantota\n",
      "Processing Record 14 of Set 8 : hun\n",
      "Processing Record 15 of Set 8 : saint george\n"
     ]
    },
    {
     "name": "stdout",
     "output_type": "stream",
     "text": [
      "Processing Record 16 of Set 8 : kavieng\n",
      "Processing Record 17 of Set 8 : iqaluit\n",
      "Processing Record 18 of Set 8 : dublin\n",
      "Processing Record 19 of Set 8 : ibicui\n",
      "Processing Record 20 of Set 8 : yaan\n",
      "Processing Record 21 of Set 8 : rudkobing\n",
      "Processing Record 22 of Set 8 : ilanskiy\n",
      "Processing Record 23 of Set 8 : walvis bay\n",
      "Processing Record 24 of Set 8 : nuuk\n",
      "Processing Record 25 of Set 8 : gat\n",
      "Processing Record 26 of Set 8 : alappuzha\n",
      "Processing Record 27 of Set 8 : caravelas\n",
      "City not found. Skipping...\n",
      "Processing Record 28 of Set 8 : lakes entrance\n",
      "Processing Record 29 of Set 8 : pipili\n",
      "City not found. Skipping...\n",
      "Processing Record 30 of Set 8 : san quintin\n",
      "Processing Record 31 of Set 8 : korla\n",
      "Processing Record 32 of Set 8 : santa cruz\n",
      "Processing Record 33 of Set 8 : miranda\n",
      "Processing Record 34 of Set 8 : muhos\n",
      "Processing Record 35 of Set 8 : lavrentiya\n",
      "Processing Record 36 of Set 8 : san pedro\n",
      "Processing Record 37 of Set 8 : port lincoln\n",
      "Processing Record 38 of Set 8 : vengerovo\n",
      "Processing Record 39 of Set 8 : novorzhev\n",
      "Processing Record 40 of Set 8 : havoysund\n",
      "Processing Record 41 of Set 8 : tongliao\n",
      "Processing Record 42 of Set 8 : atambua\n",
      "Processing Record 43 of Set 8 : vostok\n",
      "Processing Record 44 of Set 8 : sabang\n",
      "Processing Record 45 of Set 8 : teya\n",
      "City not found. Skipping...\n",
      "City not found. Skipping...\n",
      "Processing Record 46 of Set 8 : pemba\n",
      "Processing Record 47 of Set 8 : faanui\n",
      "Processing Record 48 of Set 8 : kranuan\n",
      "Processing Record 49 of Set 8 : ust-tsilma\n",
      "Processing Record 50 of Set 8 : roma\n",
      "Processing Record 0 of Set 9 : saint-joseph\n",
      "Processing Record 1 of Set 9 : greensburg\n",
      "City not found. Skipping...\n",
      "Processing Record 2 of Set 9 : puertollano\n",
      "Processing Record 3 of Set 9 : lata\n",
      "City not found. Skipping...\n",
      "Processing Record 4 of Set 9 : bataipora\n",
      "Processing Record 5 of Set 9 : north bend\n",
      "Processing Record 6 of Set 9 : wasilla\n",
      "City not found. Skipping...\n",
      "Processing Record 7 of Set 9 : paragominas\n",
      "Processing Record 8 of Set 9 : kyabe\n",
      "Processing Record 9 of Set 9 : benito juarez\n",
      "Processing Record 10 of Set 9 : tsaratanana\n",
      "Processing Record 11 of Set 9 : kropotkin\n",
      "City not found. Skipping...\n",
      "Processing Record 12 of Set 9 : cherskiy\n",
      "Processing Record 13 of Set 9 : cap malheureux\n",
      "Processing Record 14 of Set 9 : shadrinsk\n",
      "Processing Record 15 of Set 9 : shingu\n",
      "Processing Record 16 of Set 9 : san ramon\n",
      "Processing Record 17 of Set 9 : aleksandriyskaya\n",
      "Processing Record 18 of Set 9 : sananduva\n",
      "Processing Record 19 of Set 9 : shimoda\n",
      "Processing Record 20 of Set 9 : rossosh\n",
      "Processing Record 21 of Set 9 : lagoa\n",
      "Processing Record 22 of Set 9 : laukaa\n",
      "City not found. Skipping...\n",
      "Processing Record 23 of Set 9 : matay\n",
      "Processing Record 24 of Set 9 : bilma\n",
      "Processing Record 25 of Set 9 : pimentel\n",
      "Processing Record 26 of Set 9 : karratha\n",
      "Processing Record 27 of Set 9 : erfurt\n",
      "Processing Record 28 of Set 9 : malinovskiy\n",
      "Processing Record 29 of Set 9 : whitehorse\n",
      "Processing Record 30 of Set 9 : gouyave\n",
      "Processing Record 31 of Set 9 : diamantino\n",
      "Processing Record 32 of Set 9 : bacong\n",
      "Processing Record 33 of Set 9 : athens\n",
      "Processing Record 34 of Set 9 : arandis\n",
      "Processing Record 35 of Set 9 : los llanos de aridane\n",
      "Processing Record 36 of Set 9 : russell\n",
      "Processing Record 37 of Set 9 : juan lacaze\n",
      "Processing Record 38 of Set 9 : harlingen\n",
      "Processing Record 39 of Set 9 : neokhorion\n",
      "Processing Record 40 of Set 9 : opuwo\n",
      "Processing Record 41 of Set 9 : monrovia\n",
      "Processing Record 42 of Set 9 : riviere-du-loup\n",
      "City not found. Skipping...\n",
      "Processing Record 43 of Set 9 : kuminskiy\n",
      "Processing Record 44 of Set 9 : hargeysa\n",
      "Processing Record 45 of Set 9 : eyl\n",
      "Processing Record 46 of Set 9 : tsiroanomandidy\n",
      "Processing Record 47 of Set 9 : kurmanayevka\n",
      "Processing Record 48 of Set 9 : ous\n",
      "Processing Record 49 of Set 9 : son la\n",
      "City not found. Skipping...\n",
      "Processing Record 50 of Set 9 : panama city\n",
      "Processing Record 0 of Set 10 : mahdasht\n",
      "Processing Record 1 of Set 10 : kaeo\n",
      "Processing Record 2 of Set 10 : bhubaneswar\n",
      "Processing Record 3 of Set 10 : mitsamiouli\n",
      "Processing Record 4 of Set 10 : zhezkazgan\n",
      "Processing Record 5 of Set 10 : puerto penasco\n",
      "City not found. Skipping...\n",
      "Processing Record 6 of Set 10 : flinders\n",
      "Processing Record 7 of Set 10 : givors\n",
      "Processing Record 8 of Set 10 : santa clarita\n",
      "Processing Record 9 of Set 10 : pisco\n",
      "Processing Record 10 of Set 10 : taoudenni\n",
      "City not found. Skipping...\n",
      "Processing Record 11 of Set 10 : taltal\n",
      "Processing Record 12 of Set 10 : brae\n",
      "Processing Record 13 of Set 10 : plattsburgh\n",
      "Processing Record 14 of Set 10 : benjamin hill\n",
      "Processing Record 15 of Set 10 : tezu\n",
      "City not found. Skipping...\n",
      "Processing Record 16 of Set 10 : oranjestad\n",
      "Processing Record 17 of Set 10 : suruc\n",
      "Processing Record 18 of Set 10 : evanston\n",
      "Processing Record 19 of Set 10 : vestmanna\n",
      "Processing Record 20 of Set 10 : shinjo\n",
      "Processing Record 21 of Set 10 : itacoatiara\n",
      "Processing Record 22 of Set 10 : jacqueville\n",
      "Processing Record 23 of Set 10 : indianola\n",
      "Processing Record 24 of Set 10 : smithers\n",
      "Processing Record 25 of Set 10 : campbellsville\n",
      "Processing Record 26 of Set 10 : bage\n",
      "Processing Record 27 of Set 10 : mayumba\n",
      "Processing Record 28 of Set 10 : camacha\n",
      "Processing Record 29 of Set 10 : constitucion\n",
      "Processing Record 30 of Set 10 : hvide sande\n",
      "Processing Record 31 of Set 10 : nabire\n",
      "Processing Record 32 of Set 10 : proletarskiy\n",
      "Processing Record 33 of Set 10 : miyako\n",
      "Processing Record 34 of Set 10 : lichinga\n",
      "Processing Record 35 of Set 10 : yumen\n",
      "Processing Record 36 of Set 10 : thayetmyo\n",
      "Processing Record 37 of Set 10 : bambanglipuro\n",
      "Processing Record 38 of Set 10 : half moon bay\n",
      "Processing Record 39 of Set 10 : maldonado\n",
      "Processing Record 40 of Set 10 : parana\n",
      "Processing Record 41 of Set 10 : luancheng\n",
      "Processing Record 42 of Set 10 : artyom\n",
      "Processing Record 43 of Set 10 : dangriga\n",
      "Processing Record 44 of Set 10 : ormara\n",
      "Processing Record 45 of Set 10 : oriximina\n",
      "Processing Record 46 of Set 10 : beidao\n",
      "Processing Record 47 of Set 10 : the valley\n",
      "Processing Record 48 of Set 10 : port arthur\n",
      "Processing Record 49 of Set 10 : nome\n",
      "Processing Record 50 of Set 10 : oyon\n",
      "City not found. Skipping...\n",
      "Processing Record 0 of Set 11 : avesta\n",
      "Processing Record 1 of Set 11 : erenhot\n",
      "Processing Record 2 of Set 11 : ilulissat\n",
      "Processing Record 3 of Set 11 : sibolga\n",
      "City not found. Skipping...\n",
      "Processing Record 4 of Set 11 : millinocket\n",
      "Processing Record 5 of Set 11 : yacuiba\n",
      "Processing Record 6 of Set 11 : ayan\n",
      "Processing Record 7 of Set 11 : kumluca\n",
      "Processing Record 8 of Set 11 : pinheiro\n",
      "Processing Record 9 of Set 11 : isla vista\n",
      "Processing Record 10 of Set 11 : aswan\n",
      "Processing Record 11 of Set 11 : muroran\n",
      "Processing Record 12 of Set 11 : sibundoy\n",
      "Processing Record 13 of Set 11 : luderitz\n",
      "Processing Record 14 of Set 11 : oron\n",
      "Processing Record 15 of Set 11 : pangkalanbuun\n",
      "Processing Record 16 of Set 11 : oktyabrskoye\n",
      "Processing Record 17 of Set 11 : mandalgovi\n",
      "Processing Record 18 of Set 11 : nador\n",
      "Processing Record 19 of Set 11 : codajas\n",
      "Processing Record 20 of Set 11 : zharkent\n",
      "City not found. Skipping...\n",
      "Processing Record 21 of Set 11 : balod\n",
      "Processing Record 22 of Set 11 : jalu\n",
      "Processing Record 23 of Set 11 : chifeng\n",
      "Processing Record 24 of Set 11 : taseyevo\n",
      "Processing Record 25 of Set 11 : beloha\n",
      "Processing Record 26 of Set 11 : astoria\n",
      "Processing Record 27 of Set 11 : verkhoyansk\n",
      "Processing Record 28 of Set 11 : kaffrine\n",
      "Processing Record 29 of Set 11 : khandbari\n",
      "City not found. Skipping...\n",
      "Processing Record 30 of Set 11 : acapulco\n",
      "Processing Record 31 of Set 11 : buraydah\n",
      "Processing Record 32 of Set 11 : totskoye\n",
      "Processing Record 33 of Set 11 : beringovskiy\n",
      "Processing Record 34 of Set 11 : meridian\n",
      "Processing Record 35 of Set 11 : saquarema\n",
      "City not found. Skipping...\n",
      "Processing Record 36 of Set 11 : yebaishou\n",
      "Processing Record 37 of Set 11 : yinchuan\n",
      "Processing Record 38 of Set 11 : kallithea\n",
      "Processing Record 39 of Set 11 : calvinia\n",
      "Processing Record 40 of Set 11 : shakhtinsk\n",
      "Processing Record 41 of Set 11 : meulaboh\n",
      "Processing Record 42 of Set 11 : izhma\n",
      "Processing Record 43 of Set 11 : itarantim\n",
      "Processing Record 44 of Set 11 : kawalu\n",
      "Processing Record 45 of Set 11 : vysokogornyy\n",
      "Processing Record 46 of Set 11 : fushun\n",
      "Processing Record 47 of Set 11 : paredon\n"
     ]
    },
    {
     "name": "stdout",
     "output_type": "stream",
     "text": [
      "Processing Record 48 of Set 11 : fukue\n",
      "City not found. Skipping...\n",
      "Processing Record 49 of Set 11 : floro\n",
      "Processing Record 50 of Set 11 : nabha\n",
      "Processing Record 0 of Set 12 : beitbridge\n",
      "Processing Record 1 of Set 12 : muroto\n",
      "Processing Record 2 of Set 12 : goderich\n",
      "Processing Record 3 of Set 12 : shagonar\n",
      "Processing Record 4 of Set 12 : manggar\n",
      "Processing Record 5 of Set 12 : saint-pierre\n",
      "Processing Record 6 of Set 12 : tamiahua\n",
      "Processing Record 7 of Set 12 : iskateley\n",
      "Processing Record 8 of Set 12 : kushima\n",
      "Processing Record 9 of Set 12 : cerrito\n",
      "Processing Record 10 of Set 12 : mangrol\n",
      "Processing Record 11 of Set 12 : yerbogachen\n",
      "City not found. Skipping...\n",
      "-----------------------------\n",
      "Data Retrieval Complete\n",
      "-----------------------------\n"
     ]
    }
   ],
   "source": [
    "city_name = []\n",
    "cloudiness = []\n",
    "country = []\n",
    "date = []\n",
    "humidity = []\n",
    "lat = []\n",
    "lng = []\n",
    "max_temp = []\n",
    "wind_speed = []\n",
    "index_counter = 0\n",
    "set_counter = 1\n",
    "\n",
    "print(\"Beginning Data Retrieval \")\n",
    "print(\"-----------------------------\")\n",
    "\n",
    "base_url = \"http://api.openweathermap.org/data/2.5/weather?\"\n",
    "units = \"imperial\"\n",
    "query_url = f\"{base_url}appid={weather_api_key}&units={units}&q=\"\n",
    "\n",
    "\n",
    "# For each city name in cities list, do below things...\n",
    "for index, city in enumerate(cities, start = 1):\n",
    "    try:\n",
    "        response = requests.get(query_url + city).json()\n",
    "        city_name.append(response[\"name\"])\n",
    "        cloudiness.append(response[\"clouds\"][\"all\"])\n",
    "        country.append(response[\"sys\"][\"country\"])\n",
    "        date.append(response[\"dt\"])\n",
    "        humidity.append(response[\"main\"][\"humidity\"])\n",
    "        lat.append(response[\"coord\"][\"lat\"])\n",
    "        lng.append(response[\"coord\"][\"lon\"])\n",
    "        max_temp.append(response['main']['temp_max'])\n",
    "        wind_speed.append(response[\"wind\"][\"speed\"])\n",
    "        if index_counter > 49:\n",
    "            index_counter = 0\n",
    "            set_counter = set_counter + 1\n",
    "    \n",
    "        else:\n",
    "            index_counter = index_counter + 1\n",
    "            \n",
    "        print(f\"Processing Record {index_counter} of Set {set_counter} : {city}\") \n",
    "  \n",
    "    except(KeyError, IndexError):\n",
    "        print(\"City not found. Skipping...\")\n",
    "\n",
    "print(\"-----------------------------\")\n",
    "print(\"Data Retrieval Complete\")\n",
    "print(\"-----------------------------\")"
   ]
  },
  {
   "cell_type": "markdown",
   "metadata": {},
   "source": [
    "### Convert Raw Data to DataFrame\n",
    "* Export the city data into a .csv.\n",
    "* Display the DataFrame"
   ]
  },
  {
   "cell_type": "code",
   "execution_count": 6,
   "metadata": {},
   "outputs": [
    {
     "data": {
      "text/html": [
       "<div>\n",
       "<style scoped>\n",
       "    .dataframe tbody tr th:only-of-type {\n",
       "        vertical-align: middle;\n",
       "    }\n",
       "\n",
       "    .dataframe tbody tr th {\n",
       "        vertical-align: top;\n",
       "    }\n",
       "\n",
       "    .dataframe thead th {\n",
       "        text-align: right;\n",
       "    }\n",
       "</style>\n",
       "<table border=\"1\" class=\"dataframe\">\n",
       "  <thead>\n",
       "    <tr style=\"text-align: right;\">\n",
       "      <th></th>\n",
       "      <th>City</th>\n",
       "      <th>Lat</th>\n",
       "      <th>Lng</th>\n",
       "      <th>Max Temp</th>\n",
       "      <th>Humidity</th>\n",
       "      <th>Cloudiness</th>\n",
       "      <th>Wind Speed</th>\n",
       "      <th>Country</th>\n",
       "      <th>Date</th>\n",
       "    </tr>\n",
       "    <tr>\n",
       "      <th></th>\n",
       "      <th></th>\n",
       "      <th></th>\n",
       "      <th></th>\n",
       "      <th></th>\n",
       "      <th></th>\n",
       "      <th></th>\n",
       "      <th></th>\n",
       "      <th></th>\n",
       "      <th></th>\n",
       "    </tr>\n",
       "  </thead>\n",
       "  <tbody>\n",
       "    <tr>\n",
       "      <th>0</th>\n",
       "      <td>Pilar</td>\n",
       "      <td>-9.5972</td>\n",
       "      <td>-35.9567</td>\n",
       "      <td>75.13</td>\n",
       "      <td>71</td>\n",
       "      <td>97</td>\n",
       "      <td>4.38</td>\n",
       "      <td>BR</td>\n",
       "      <td>1647949535</td>\n",
       "    </tr>\n",
       "    <tr>\n",
       "      <th>1</th>\n",
       "      <td>Sennoy</td>\n",
       "      <td>52.1509</td>\n",
       "      <td>46.9631</td>\n",
       "      <td>33.35</td>\n",
       "      <td>94</td>\n",
       "      <td>21</td>\n",
       "      <td>7.92</td>\n",
       "      <td>RU</td>\n",
       "      <td>1647949536</td>\n",
       "    </tr>\n",
       "    <tr>\n",
       "      <th>2</th>\n",
       "      <td>Longyearbyen</td>\n",
       "      <td>78.2186</td>\n",
       "      <td>15.6401</td>\n",
       "      <td>17.44</td>\n",
       "      <td>62</td>\n",
       "      <td>75</td>\n",
       "      <td>20.71</td>\n",
       "      <td>SJ</td>\n",
       "      <td>1647949537</td>\n",
       "    </tr>\n",
       "    <tr>\n",
       "      <th>3</th>\n",
       "      <td>Valparaíso</td>\n",
       "      <td>-33.0393</td>\n",
       "      <td>-71.6273</td>\n",
       "      <td>59.47</td>\n",
       "      <td>69</td>\n",
       "      <td>0</td>\n",
       "      <td>3.44</td>\n",
       "      <td>CL</td>\n",
       "      <td>1647949329</td>\n",
       "    </tr>\n",
       "    <tr>\n",
       "      <th>4</th>\n",
       "      <td>Busselton</td>\n",
       "      <td>-33.6500</td>\n",
       "      <td>115.3333</td>\n",
       "      <td>63.41</td>\n",
       "      <td>59</td>\n",
       "      <td>1</td>\n",
       "      <td>18.25</td>\n",
       "      <td>AU</td>\n",
       "      <td>1647949538</td>\n",
       "    </tr>\n",
       "  </tbody>\n",
       "</table>\n",
       "</div>"
      ],
      "text/plain": [
       "           City      Lat       Lng  Max Temp  Humidity  Cloudiness  \\\n",
       "                                                                     \n",
       "0         Pilar  -9.5972  -35.9567     75.13        71          97   \n",
       "1        Sennoy  52.1509   46.9631     33.35        94          21   \n",
       "2  Longyearbyen  78.2186   15.6401     17.44        62          75   \n",
       "3    Valparaíso -33.0393  -71.6273     59.47        69           0   \n",
       "4     Busselton -33.6500  115.3333     63.41        59           1   \n",
       "\n",
       "   Wind Speed Country        Date  \n",
       "                                   \n",
       "0        4.38      BR  1647949535  \n",
       "1        7.92      RU  1647949536  \n",
       "2       20.71      SJ  1647949537  \n",
       "3        3.44      CL  1647949329  \n",
       "4       18.25      AU  1647949538  "
      ]
     },
     "execution_count": 6,
     "metadata": {},
     "output_type": "execute_result"
    }
   ],
   "source": [
    "city_weather_df = pd.DataFrame({\"City\":city_name,\n",
    "                        \"Lat\":lat,\n",
    "                        \"Lng\":lng,\n",
    "                        \"Max Temp\":max_temp,\n",
    "                        \"Humidity\":humidity,\n",
    "                        \"Cloudiness\":cloudiness,\n",
    "                        \"Wind Speed\":wind_speed,\n",
    "                        \"Country\":country, \n",
    "                        \"Date\":date, \n",
    "                                       })\n",
    "city_weather_df = city_weather_df.rename_axis('')\n",
    "\n",
    "#Exporting data to csv\n",
    "city_weather_df.to_csv(\"output_data/city.csv\")\n",
    "\n",
    "#Displaying dataframe\n",
    "city_weather_df.head()"
   ]
  },
  {
   "cell_type": "code",
   "execution_count": 7,
   "metadata": {},
   "outputs": [
    {
     "data": {
      "text/html": [
       "<div>\n",
       "<style scoped>\n",
       "    .dataframe tbody tr th:only-of-type {\n",
       "        vertical-align: middle;\n",
       "    }\n",
       "\n",
       "    .dataframe tbody tr th {\n",
       "        vertical-align: top;\n",
       "    }\n",
       "\n",
       "    .dataframe thead th {\n",
       "        text-align: right;\n",
       "    }\n",
       "</style>\n",
       "<table border=\"1\" class=\"dataframe\">\n",
       "  <thead>\n",
       "    <tr style=\"text-align: right;\">\n",
       "      <th></th>\n",
       "      <th>Lat</th>\n",
       "      <th>Lng</th>\n",
       "      <th>Max Temp</th>\n",
       "      <th>Humidity</th>\n",
       "      <th>Cloudiness</th>\n",
       "      <th>Wind Speed</th>\n",
       "      <th>Date</th>\n",
       "    </tr>\n",
       "  </thead>\n",
       "  <tbody>\n",
       "    <tr>\n",
       "      <th>count</th>\n",
       "      <td>572.000000</td>\n",
       "      <td>572.000000</td>\n",
       "      <td>572.000000</td>\n",
       "      <td>572.000000</td>\n",
       "      <td>572.000000</td>\n",
       "      <td>572.000000</td>\n",
       "      <td>5.720000e+02</td>\n",
       "    </tr>\n",
       "    <tr>\n",
       "      <th>mean</th>\n",
       "      <td>21.413116</td>\n",
       "      <td>21.621558</td>\n",
       "      <td>56.094073</td>\n",
       "      <td>69.795455</td>\n",
       "      <td>58.012238</td>\n",
       "      <td>8.995909</td>\n",
       "      <td>1.647950e+09</td>\n",
       "    </tr>\n",
       "    <tr>\n",
       "      <th>std</th>\n",
       "      <td>33.316783</td>\n",
       "      <td>90.670492</td>\n",
       "      <td>26.965572</td>\n",
       "      <td>22.823969</td>\n",
       "      <td>39.325774</td>\n",
       "      <td>5.818107</td>\n",
       "      <td>1.372975e+02</td>\n",
       "    </tr>\n",
       "    <tr>\n",
       "      <th>min</th>\n",
       "      <td>-54.800000</td>\n",
       "      <td>-175.200000</td>\n",
       "      <td>-27.380000</td>\n",
       "      <td>1.000000</td>\n",
       "      <td>0.000000</td>\n",
       "      <td>0.000000</td>\n",
       "      <td>1.647949e+09</td>\n",
       "    </tr>\n",
       "    <tr>\n",
       "      <th>25%</th>\n",
       "      <td>-6.425700</td>\n",
       "      <td>-61.443775</td>\n",
       "      <td>35.970000</td>\n",
       "      <td>59.000000</td>\n",
       "      <td>20.000000</td>\n",
       "      <td>4.500000</td>\n",
       "      <td>1.647950e+09</td>\n",
       "    </tr>\n",
       "    <tr>\n",
       "      <th>50%</th>\n",
       "      <td>28.366800</td>\n",
       "      <td>29.789300</td>\n",
       "      <td>60.810000</td>\n",
       "      <td>76.000000</td>\n",
       "      <td>70.000000</td>\n",
       "      <td>7.990000</td>\n",
       "      <td>1.647950e+09</td>\n",
       "    </tr>\n",
       "    <tr>\n",
       "      <th>75%</th>\n",
       "      <td>48.716600</td>\n",
       "      <td>100.340125</td>\n",
       "      <td>78.262500</td>\n",
       "      <td>87.000000</td>\n",
       "      <td>99.000000</td>\n",
       "      <td>12.540000</td>\n",
       "      <td>1.647950e+09</td>\n",
       "    </tr>\n",
       "    <tr>\n",
       "      <th>max</th>\n",
       "      <td>78.218600</td>\n",
       "      <td>179.316700</td>\n",
       "      <td>105.310000</td>\n",
       "      <td>100.000000</td>\n",
       "      <td>100.000000</td>\n",
       "      <td>32.230000</td>\n",
       "      <td>1.647950e+09</td>\n",
       "    </tr>\n",
       "  </tbody>\n",
       "</table>\n",
       "</div>"
      ],
      "text/plain": [
       "              Lat         Lng    Max Temp    Humidity  Cloudiness  Wind Speed  \\\n",
       "count  572.000000  572.000000  572.000000  572.000000  572.000000  572.000000   \n",
       "mean    21.413116   21.621558   56.094073   69.795455   58.012238    8.995909   \n",
       "std     33.316783   90.670492   26.965572   22.823969   39.325774    5.818107   \n",
       "min    -54.800000 -175.200000  -27.380000    1.000000    0.000000    0.000000   \n",
       "25%     -6.425700  -61.443775   35.970000   59.000000   20.000000    4.500000   \n",
       "50%     28.366800   29.789300   60.810000   76.000000   70.000000    7.990000   \n",
       "75%     48.716600  100.340125   78.262500   87.000000   99.000000   12.540000   \n",
       "max     78.218600  179.316700  105.310000  100.000000  100.000000   32.230000   \n",
       "\n",
       "               Date  \n",
       "count  5.720000e+02  \n",
       "mean   1.647950e+09  \n",
       "std    1.372975e+02  \n",
       "min    1.647949e+09  \n",
       "25%    1.647950e+09  \n",
       "50%    1.647950e+09  \n",
       "75%    1.647950e+09  \n",
       "max    1.647950e+09  "
      ]
     },
     "execution_count": 7,
     "metadata": {},
     "output_type": "execute_result"
    }
   ],
   "source": [
    "percentage = [.25,.50,.75]\n",
    "\n",
    "city_weather_summary = city_weather_df.describe(percentiles = percentage)\n",
    "city_weather_summary.to_csv(f'output_data\\city_weather_summary.csv', index = False)\n",
    "\n",
    "city_weather_summary"
   ]
  },
  {
   "cell_type": "markdown",
   "metadata": {},
   "source": [
    "## Inspect the data and remove the cities where the humidity > 100%.\n",
    "----\n",
    "Skip this step if there are no cities that have humidity > 100%. "
   ]
  },
  {
   "cell_type": "code",
   "execution_count": 8,
   "metadata": {},
   "outputs": [
    {
     "data": {
      "text/html": [
       "<div>\n",
       "<style scoped>\n",
       "    .dataframe tbody tr th:only-of-type {\n",
       "        vertical-align: middle;\n",
       "    }\n",
       "\n",
       "    .dataframe tbody tr th {\n",
       "        vertical-align: top;\n",
       "    }\n",
       "\n",
       "    .dataframe thead th {\n",
       "        text-align: right;\n",
       "    }\n",
       "</style>\n",
       "<table border=\"1\" class=\"dataframe\">\n",
       "  <thead>\n",
       "    <tr style=\"text-align: right;\">\n",
       "      <th></th>\n",
       "      <th>City</th>\n",
       "      <th>Lat</th>\n",
       "      <th>Lng</th>\n",
       "      <th>Max Temp</th>\n",
       "      <th>Humidity</th>\n",
       "      <th>Cloudiness</th>\n",
       "      <th>Wind Speed</th>\n",
       "      <th>Country</th>\n",
       "      <th>Date</th>\n",
       "    </tr>\n",
       "    <tr>\n",
       "      <th></th>\n",
       "      <th></th>\n",
       "      <th></th>\n",
       "      <th></th>\n",
       "      <th></th>\n",
       "      <th></th>\n",
       "      <th></th>\n",
       "      <th></th>\n",
       "      <th></th>\n",
       "      <th></th>\n",
       "    </tr>\n",
       "  </thead>\n",
       "  <tbody>\n",
       "  </tbody>\n",
       "</table>\n",
       "</div>"
      ],
      "text/plain": [
       "Empty DataFrame\n",
       "Columns: [City, Lat, Lng, Max Temp, Humidity, Cloudiness, Wind Speed, Country, Date]\n",
       "Index: []"
      ]
     },
     "execution_count": 8,
     "metadata": {},
     "output_type": "execute_result"
    }
   ],
   "source": [
    "humidity_df = city_weather_df[(city_weather_df['Humidity'] > 100)]\n",
    "humidity_df"
   ]
  },
  {
   "cell_type": "code",
   "execution_count": 9,
   "metadata": {},
   "outputs": [],
   "source": [
    "#  Get the indices of cities that have humidity over 100%.\n"
   ]
  },
  {
   "cell_type": "code",
   "execution_count": 10,
   "metadata": {},
   "outputs": [],
   "source": [
    "# Make a new DataFrame equal to the city data to drop all humidity outliers by index.\n",
    "# Passing \"inplace=False\" will make a copy of the city_data DataFrame, which we call \"clean_city_data\".\n"
   ]
  },
  {
   "cell_type": "code",
   "execution_count": null,
   "metadata": {},
   "outputs": [],
   "source": [
    "\n"
   ]
  },
  {
   "cell_type": "markdown",
   "metadata": {},
   "source": [
    "## Plotting the Data\n",
    "* Use proper labeling of the plots using plot titles (including date of analysis) and axes labels.\n",
    "* Save the plotted figures as .pngs."
   ]
  },
  {
   "cell_type": "markdown",
   "metadata": {},
   "source": [
    "## Latitude vs. Temperature Plot"
   ]
  },
  {
   "cell_type": "code",
   "execution_count": 11,
   "metadata": {
    "scrolled": true
   },
   "outputs": [
    {
     "data": {
      "image/png": "[encoded data removed]",
      "text/plain": [
       "<Figure size 432x288 with 1 Axes>"
      ]
     },
     "metadata": {
      "needs_background": "light"
     },
     "output_type": "display_data"
    }
   ],
   "source": [
    "plt.scatter(city_weather_df[\"Lat\"], city_weather_df[\"Max Temp\"], facecolor = \"steelblue\", edgecolor = \"black\")\n",
    "plt.title(\"City Latitude vs. Max Temperature (20/03/22)\")\n",
    "plt.xlabel(\"Laitude\")\n",
    "plt.ylabel(\"Max Temperature (F)\")\n",
    "plt.grid(linestyle='-', linewidth=1, alpha = 0.5)\n",
    "plt.savefig(\"output_data/City Latitude vs Max Temperature.png\")"
   ]
  },
  {
   "cell_type": "markdown",
   "metadata": {},
   "source": [
    "### Latitude vs. Temperature Plot show the relationship between latitude and temperature. Which means as you closer to equator line the temperature gets hotter."
   ]
  },
  {
   "cell_type": "markdown",
   "metadata": {},
   "source": [
    "## Latitude vs. Humidity Plot"
   ]
  },
  {
   "cell_type": "code",
   "execution_count": 12,
   "metadata": {},
   "outputs": [
    {
     "data": {
      "image/png": "[encoded data removed]",
      "text/plain": [
       "<Figure size 432x288 with 1 Axes>"
      ]
     },
     "metadata": {
      "needs_background": "light"
     },
     "output_type": "display_data"
    }
   ],
   "source": [
    "plt.scatter(city_weather_df[\"Lat\"], city_weather_df[\"Humidity\"], facecolor = \"steelblue\", edgecolor = \"black\")\n",
    "plt.title(\"City Latitude vs. Humidity (20/03/22)\")\n",
    "plt.xlabel(\"Laitude\")\n",
    "plt.ylabel(\"Humidity (%)\")\n",
    "plt.grid(linestyle='-', linewidth=1, alpha = 0.5)\n",
    "plt.savefig(\"output_data/City Latitude vs Humidity.png\")"
   ]
  },
  {
   "cell_type": "markdown",
   "metadata": {},
   "source": [
    "### Latitude vs. Humidity Plot show the relationship between latitude and humidity. It shows that the humidity is more consistent with higher latitudes."
   ]
  },
  {
   "cell_type": "markdown",
   "metadata": {},
   "source": [
    "## Latitude vs. Cloudiness Plot"
   ]
  },
  {
   "cell_type": "code",
   "execution_count": 13,
   "metadata": {},
   "outputs": [
    {
     "data": {
      "image/png": "[encoded data removed]",
      "text/plain": [
       "<Figure size 432x288 with 1 Axes>"
      ]
     },
     "metadata": {
      "needs_background": "light"
     },
     "output_type": "display_data"
    }
   ],
   "source": [
    "plt.scatter(city_weather_df[\"Lat\"], city_weather_df[\"Cloudiness\"], facecolor = \"steelblue\", edgecolor = \"black\")\n",
    "plt.title(\"City Latitude vs. Cloudiness (20/03/22)\")\n",
    "plt.xlabel(\"Laitude\")\n",
    "plt.ylabel(\"Cloudiness (%)\")\n",
    "plt.ylim(-5,105)\n",
    "plt.grid(linestyle='-', linewidth=1, alpha = 0.5)\n",
    "plt.savefig(\"output_data/City Latitude vs Cloudiness.png\")"
   ]
  },
  {
   "cell_type": "markdown",
   "metadata": {},
   "source": [
    "### Latitude vs. Cloudiness Plot show a radom relationship between latitude and Cloudiness."
   ]
  },
  {
   "cell_type": "markdown",
   "metadata": {},
   "source": [
    "## Latitude vs. Wind Speed Plot"
   ]
  },
  {
   "cell_type": "code",
   "execution_count": 14,
   "metadata": {},
   "outputs": [
    {
     "data": {
      "image/png": "[encoded data removed]",
      "text/plain": [
       "<Figure size 432x288 with 1 Axes>"
      ]
     },
     "metadata": {
      "needs_background": "light"
     },
     "output_type": "display_data"
    }
   ],
   "source": [
    "plt.scatter(city_weather_df[\"Lat\"], city_weather_df[\"Wind Speed\"], facecolor = \"steelblue\", edgecolor = \"black\")\n",
    "plt.title(\"City Latitude vs. Wind Speed (mph) (20/03/22)\")\n",
    "plt.xlabel(\"Laitude\")\n",
    "plt.ylabel(\"Wind Speed (%)\")\n",
    "plt.ylim(-2,50)\n",
    "plt.grid(linestyle='-', linewidth=1, alpha = 0.5)\n",
    "plt.savefig(\"output_data/City Latitude vs Wind Speed (mph).png\")"
   ]
  },
  {
   "cell_type": "markdown",
   "metadata": {},
   "source": [
    "### Latitude vs. Wind Speed Plot show the relationship between latitude and wind speed. As Farther away from the equator (latitude 0), thewind speeds will be generally greater."
   ]
  },
  {
   "cell_type": "markdown",
   "metadata": {},
   "source": [
    "## Linear Regression"
   ]
  },
  {
   "cell_type": "code",
   "execution_count": 15,
   "metadata": {},
   "outputs": [
    {
     "data": {
      "text/html": [
       "<div>\n",
       "<style scoped>\n",
       "    .dataframe tbody tr th:only-of-type {\n",
       "        vertical-align: middle;\n",
       "    }\n",
       "\n",
       "    .dataframe tbody tr th {\n",
       "        vertical-align: top;\n",
       "    }\n",
       "\n",
       "    .dataframe thead th {\n",
       "        text-align: right;\n",
       "    }\n",
       "</style>\n",
       "<table border=\"1\" class=\"dataframe\">\n",
       "  <thead>\n",
       "    <tr style=\"text-align: right;\">\n",
       "      <th></th>\n",
       "      <th>City</th>\n",
       "      <th>Lat</th>\n",
       "      <th>Lng</th>\n",
       "      <th>Max Temp</th>\n",
       "      <th>Humidity</th>\n",
       "      <th>Cloudiness</th>\n",
       "      <th>Wind Speed</th>\n",
       "      <th>Country</th>\n",
       "      <th>Date</th>\n",
       "    </tr>\n",
       "    <tr>\n",
       "      <th></th>\n",
       "      <th></th>\n",
       "      <th></th>\n",
       "      <th></th>\n",
       "      <th></th>\n",
       "      <th></th>\n",
       "      <th></th>\n",
       "      <th></th>\n",
       "      <th></th>\n",
       "      <th></th>\n",
       "    </tr>\n",
       "  </thead>\n",
       "  <tbody>\n",
       "    <tr>\n",
       "      <th>1</th>\n",
       "      <td>Sennoy</td>\n",
       "      <td>52.1509</td>\n",
       "      <td>46.9631</td>\n",
       "      <td>33.35</td>\n",
       "      <td>94</td>\n",
       "      <td>21</td>\n",
       "      <td>7.92</td>\n",
       "      <td>RU</td>\n",
       "      <td>1647949536</td>\n",
       "    </tr>\n",
       "    <tr>\n",
       "      <th>2</th>\n",
       "      <td>Longyearbyen</td>\n",
       "      <td>78.2186</td>\n",
       "      <td>15.6401</td>\n",
       "      <td>17.44</td>\n",
       "      <td>62</td>\n",
       "      <td>75</td>\n",
       "      <td>20.71</td>\n",
       "      <td>SJ</td>\n",
       "      <td>1647949537</td>\n",
       "    </tr>\n",
       "    <tr>\n",
       "      <th>6</th>\n",
       "      <td>La Romana</td>\n",
       "      <td>18.4273</td>\n",
       "      <td>-68.9728</td>\n",
       "      <td>70.16</td>\n",
       "      <td>94</td>\n",
       "      <td>20</td>\n",
       "      <td>5.75</td>\n",
       "      <td>DO</td>\n",
       "      <td>1647949539</td>\n",
       "    </tr>\n",
       "    <tr>\n",
       "      <th>7</th>\n",
       "      <td>Çermik</td>\n",
       "      <td>38.1361</td>\n",
       "      <td>39.4493</td>\n",
       "      <td>43.47</td>\n",
       "      <td>76</td>\n",
       "      <td>76</td>\n",
       "      <td>7.45</td>\n",
       "      <td>TR</td>\n",
       "      <td>1647949540</td>\n",
       "    </tr>\n",
       "    <tr>\n",
       "      <th>9</th>\n",
       "      <td>Agirish</td>\n",
       "      <td>61.9247</td>\n",
       "      <td>63.0231</td>\n",
       "      <td>25.47</td>\n",
       "      <td>95</td>\n",
       "      <td>100</td>\n",
       "      <td>10.38</td>\n",
       "      <td>RU</td>\n",
       "      <td>1647949542</td>\n",
       "    </tr>\n",
       "    <tr>\n",
       "      <th>...</th>\n",
       "      <td>...</td>\n",
       "      <td>...</td>\n",
       "      <td>...</td>\n",
       "      <td>...</td>\n",
       "      <td>...</td>\n",
       "      <td>...</td>\n",
       "      <td>...</td>\n",
       "      <td>...</td>\n",
       "      <td>...</td>\n",
       "    </tr>\n",
       "    <tr>\n",
       "      <th>567</th>\n",
       "      <td>Iskateley</td>\n",
       "      <td>67.6803</td>\n",
       "      <td>53.1512</td>\n",
       "      <td>27.59</td>\n",
       "      <td>78</td>\n",
       "      <td>97</td>\n",
       "      <td>25.77</td>\n",
       "      <td>RU</td>\n",
       "      <td>1647949949</td>\n",
       "    </tr>\n",
       "    <tr>\n",
       "      <th>568</th>\n",
       "      <td>Kushima</td>\n",
       "      <td>31.4583</td>\n",
       "      <td>131.2333</td>\n",
       "      <td>54.07</td>\n",
       "      <td>76</td>\n",
       "      <td>100</td>\n",
       "      <td>11.81</td>\n",
       "      <td>JP</td>\n",
       "      <td>1647949949</td>\n",
       "    </tr>\n",
       "    <tr>\n",
       "      <th>569</th>\n",
       "      <td>Cerrito</td>\n",
       "      <td>6.8432</td>\n",
       "      <td>-72.6940</td>\n",
       "      <td>53.92</td>\n",
       "      <td>87</td>\n",
       "      <td>74</td>\n",
       "      <td>4.76</td>\n",
       "      <td>CO</td>\n",
       "      <td>1647949950</td>\n",
       "    </tr>\n",
       "    <tr>\n",
       "      <th>570</th>\n",
       "      <td>Māngrol</td>\n",
       "      <td>21.1167</td>\n",
       "      <td>70.1167</td>\n",
       "      <td>85.01</td>\n",
       "      <td>44</td>\n",
       "      <td>30</td>\n",
       "      <td>20.87</td>\n",
       "      <td>IN</td>\n",
       "      <td>1647949951</td>\n",
       "    </tr>\n",
       "    <tr>\n",
       "      <th>571</th>\n",
       "      <td>Yerbogachën</td>\n",
       "      <td>61.2767</td>\n",
       "      <td>108.0108</td>\n",
       "      <td>18.18</td>\n",
       "      <td>91</td>\n",
       "      <td>100</td>\n",
       "      <td>5.26</td>\n",
       "      <td>RU</td>\n",
       "      <td>1647949951</td>\n",
       "    </tr>\n",
       "  </tbody>\n",
       "</table>\n",
       "<p>399 rows × 9 columns</p>\n",
       "</div>"
      ],
      "text/plain": [
       "             City      Lat       Lng  Max Temp  Humidity  Cloudiness  \\\n",
       "                                                                       \n",
       "1          Sennoy  52.1509   46.9631     33.35        94          21   \n",
       "2    Longyearbyen  78.2186   15.6401     17.44        62          75   \n",
       "6       La Romana  18.4273  -68.9728     70.16        94          20   \n",
       "7          Çermik  38.1361   39.4493     43.47        76          76   \n",
       "9         Agirish  61.9247   63.0231     25.47        95         100   \n",
       "..            ...      ...       ...       ...       ...         ...   \n",
       "567     Iskateley  67.6803   53.1512     27.59        78          97   \n",
       "568       Kushima  31.4583  131.2333     54.07        76         100   \n",
       "569       Cerrito   6.8432  -72.6940     53.92        87          74   \n",
       "570       Māngrol  21.1167   70.1167     85.01        44          30   \n",
       "571   Yerbogachën  61.2767  108.0108     18.18        91         100   \n",
       "\n",
       "     Wind Speed Country        Date  \n",
       "                                     \n",
       "1          7.92      RU  1647949536  \n",
       "2         20.71      SJ  1647949537  \n",
       "6          5.75      DO  1647949539  \n",
       "7          7.45      TR  1647949540  \n",
       "9         10.38      RU  1647949542  \n",
       "..          ...     ...         ...  \n",
       "567       25.77      RU  1647949949  \n",
       "568       11.81      JP  1647949949  \n",
       "569        4.76      CO  1647949950  \n",
       "570       20.87      IN  1647949951  \n",
       "571        5.26      RU  1647949951  \n",
       "\n",
       "[399 rows x 9 columns]"
      ]
     },
     "execution_count": 15,
     "metadata": {},
     "output_type": "execute_result"
    }
   ],
   "source": [
    "Northern_hemisphere_df = city_weather_df.loc[city_weather_df[\"Lat\"]>=0]\n",
    "Northern_hemisphere_df.to_csv(\"output_data/Northern_hemisphere.csv\")\n",
    "Northern_hemisphere_df"
   ]
  },
  {
   "cell_type": "code",
   "execution_count": 16,
   "metadata": {},
   "outputs": [
    {
     "data": {
      "text/html": [
       "<div>\n",
       "<style scoped>\n",
       "    .dataframe tbody tr th:only-of-type {\n",
       "        vertical-align: middle;\n",
       "    }\n",
       "\n",
       "    .dataframe tbody tr th {\n",
       "        vertical-align: top;\n",
       "    }\n",
       "\n",
       "    .dataframe thead th {\n",
       "        text-align: right;\n",
       "    }\n",
       "</style>\n",
       "<table border=\"1\" class=\"dataframe\">\n",
       "  <thead>\n",
       "    <tr style=\"text-align: right;\">\n",
       "      <th></th>\n",
       "      <th>City</th>\n",
       "      <th>Lat</th>\n",
       "      <th>Lng</th>\n",
       "      <th>Max Temp</th>\n",
       "      <th>Humidity</th>\n",
       "      <th>Cloudiness</th>\n",
       "      <th>Wind Speed</th>\n",
       "      <th>Country</th>\n",
       "      <th>Date</th>\n",
       "    </tr>\n",
       "    <tr>\n",
       "      <th></th>\n",
       "      <th></th>\n",
       "      <th></th>\n",
       "      <th></th>\n",
       "      <th></th>\n",
       "      <th></th>\n",
       "      <th></th>\n",
       "      <th></th>\n",
       "      <th></th>\n",
       "      <th></th>\n",
       "    </tr>\n",
       "  </thead>\n",
       "  <tbody>\n",
       "    <tr>\n",
       "      <th>0</th>\n",
       "      <td>Pilar</td>\n",
       "      <td>-9.5972</td>\n",
       "      <td>-35.9567</td>\n",
       "      <td>75.13</td>\n",
       "      <td>71</td>\n",
       "      <td>97</td>\n",
       "      <td>4.38</td>\n",
       "      <td>BR</td>\n",
       "      <td>1647949535</td>\n",
       "    </tr>\n",
       "    <tr>\n",
       "      <th>3</th>\n",
       "      <td>Valparaíso</td>\n",
       "      <td>-33.0393</td>\n",
       "      <td>-71.6273</td>\n",
       "      <td>59.47</td>\n",
       "      <td>69</td>\n",
       "      <td>0</td>\n",
       "      <td>3.44</td>\n",
       "      <td>CL</td>\n",
       "      <td>1647949329</td>\n",
       "    </tr>\n",
       "    <tr>\n",
       "      <th>4</th>\n",
       "      <td>Busselton</td>\n",
       "      <td>-33.6500</td>\n",
       "      <td>115.3333</td>\n",
       "      <td>63.41</td>\n",
       "      <td>59</td>\n",
       "      <td>1</td>\n",
       "      <td>18.25</td>\n",
       "      <td>AU</td>\n",
       "      <td>1647949538</td>\n",
       "    </tr>\n",
       "    <tr>\n",
       "      <th>5</th>\n",
       "      <td>Hermanus</td>\n",
       "      <td>-34.4187</td>\n",
       "      <td>19.2345</td>\n",
       "      <td>78.80</td>\n",
       "      <td>70</td>\n",
       "      <td>99</td>\n",
       "      <td>15.73</td>\n",
       "      <td>ZA</td>\n",
       "      <td>1647949539</td>\n",
       "    </tr>\n",
       "    <tr>\n",
       "      <th>8</th>\n",
       "      <td>Hobart</td>\n",
       "      <td>-42.8794</td>\n",
       "      <td>147.3294</td>\n",
       "      <td>57.06</td>\n",
       "      <td>83</td>\n",
       "      <td>75</td>\n",
       "      <td>11.50</td>\n",
       "      <td>AU</td>\n",
       "      <td>1647949541</td>\n",
       "    </tr>\n",
       "    <tr>\n",
       "      <th>...</th>\n",
       "      <td>...</td>\n",
       "      <td>...</td>\n",
       "      <td>...</td>\n",
       "      <td>...</td>\n",
       "      <td>...</td>\n",
       "      <td>...</td>\n",
       "      <td>...</td>\n",
       "      <td>...</td>\n",
       "      <td>...</td>\n",
       "    </tr>\n",
       "    <tr>\n",
       "      <th>552</th>\n",
       "      <td>Itarantim</td>\n",
       "      <td>-15.6597</td>\n",
       "      <td>-40.0656</td>\n",
       "      <td>77.95</td>\n",
       "      <td>71</td>\n",
       "      <td>25</td>\n",
       "      <td>7.09</td>\n",
       "      <td>BR</td>\n",
       "      <td>1647949937</td>\n",
       "    </tr>\n",
       "    <tr>\n",
       "      <th>553</th>\n",
       "      <td>Kawalu</td>\n",
       "      <td>-7.3817</td>\n",
       "      <td>108.2082</td>\n",
       "      <td>74.32</td>\n",
       "      <td>94</td>\n",
       "      <td>100</td>\n",
       "      <td>0.78</td>\n",
       "      <td>ID</td>\n",
       "      <td>1647949938</td>\n",
       "    </tr>\n",
       "    <tr>\n",
       "      <th>560</th>\n",
       "      <td>Beitbridge</td>\n",
       "      <td>-22.2167</td>\n",
       "      <td>30.0000</td>\n",
       "      <td>85.01</td>\n",
       "      <td>30</td>\n",
       "      <td>0</td>\n",
       "      <td>11.74</td>\n",
       "      <td>ZW</td>\n",
       "      <td>1647949944</td>\n",
       "    </tr>\n",
       "    <tr>\n",
       "      <th>564</th>\n",
       "      <td>Manggar</td>\n",
       "      <td>-2.8833</td>\n",
       "      <td>108.2667</td>\n",
       "      <td>81.52</td>\n",
       "      <td>75</td>\n",
       "      <td>95</td>\n",
       "      <td>2.21</td>\n",
       "      <td>ID</td>\n",
       "      <td>1647949947</td>\n",
       "    </tr>\n",
       "    <tr>\n",
       "      <th>565</th>\n",
       "      <td>Saint-Pierre</td>\n",
       "      <td>-21.3393</td>\n",
       "      <td>55.4781</td>\n",
       "      <td>84.90</td>\n",
       "      <td>81</td>\n",
       "      <td>20</td>\n",
       "      <td>20.71</td>\n",
       "      <td>RE</td>\n",
       "      <td>1647949947</td>\n",
       "    </tr>\n",
       "  </tbody>\n",
       "</table>\n",
       "<p>173 rows × 9 columns</p>\n",
       "</div>"
      ],
      "text/plain": [
       "             City      Lat       Lng  Max Temp  Humidity  Cloudiness  \\\n",
       "                                                                       \n",
       "0           Pilar  -9.5972  -35.9567     75.13        71          97   \n",
       "3      Valparaíso -33.0393  -71.6273     59.47        69           0   \n",
       "4       Busselton -33.6500  115.3333     63.41        59           1   \n",
       "5        Hermanus -34.4187   19.2345     78.80        70          99   \n",
       "8          Hobart -42.8794  147.3294     57.06        83          75   \n",
       "..            ...      ...       ...       ...       ...         ...   \n",
       "552     Itarantim -15.6597  -40.0656     77.95        71          25   \n",
       "553        Kawalu  -7.3817  108.2082     74.32        94         100   \n",
       "560    Beitbridge -22.2167   30.0000     85.01        30           0   \n",
       "564       Manggar  -2.8833  108.2667     81.52        75          95   \n",
       "565  Saint-Pierre -21.3393   55.4781     84.90        81          20   \n",
       "\n",
       "     Wind Speed Country        Date  \n",
       "                                     \n",
       "0          4.38      BR  1647949535  \n",
       "3          3.44      CL  1647949329  \n",
       "4         18.25      AU  1647949538  \n",
       "5         15.73      ZA  1647949539  \n",
       "8         11.50      AU  1647949541  \n",
       "..          ...     ...         ...  \n",
       "552        7.09      BR  1647949937  \n",
       "553        0.78      ID  1647949938  \n",
       "560       11.74      ZW  1647949944  \n",
       "564        2.21      ID  1647949947  \n",
       "565       20.71      RE  1647949947  \n",
       "\n",
       "[173 rows x 9 columns]"
      ]
     },
     "execution_count": 16,
     "metadata": {},
     "output_type": "execute_result"
    }
   ],
   "source": [
    "Southern_hemisphere_df = city_weather_df.loc[city_weather_df[\"Lat\"]<0]\n",
    "Southern_hemisphere_df.to_csv(\"output_data/Southern_hemisphere.csv\")\n",
    "Southern_hemisphere_df"
   ]
  },
  {
   "cell_type": "code",
   "execution_count": 17,
   "metadata": {},
   "outputs": [],
   "source": [
    "def linear_regression(x,y):\n",
    "    (slope, intercept, rvalue, pvalue, stderr) = linregress(x, y)\n",
    "    regression_values = x * slope + intercept\n",
    "    print(f\"The r-value is : {rvalue**2}\")\n",
    "    line_eq = \"y = \" + str(round(slope,2)) + \"x + \" + str(round(intercept,2))\n",
    "    plt.scatter(x, y)\n",
    "    plt.plot(x,regression_values,\"r-\")\n",
    "    return line_eq\n",
    "\n",
    "def annotate(line_eq, a, b):\n",
    "    plt.annotate(line_eq,(a,b),fontsize=15,color=\"red\")"
   ]
  },
  {
   "cell_type": "markdown",
   "metadata": {},
   "source": [
    "####  Northern Hemisphere - Max Temp vs. Latitude Linear Regression"
   ]
  },
  {
   "cell_type": "code",
   "execution_count": 18,
   "metadata": {},
   "outputs": [
    {
     "name": "stdout",
     "output_type": "stream",
     "text": [
      "The r-value is : 0.7432984137671047\n"
     ]
    },
    {
     "data": {
      "image/png": "[encoded data removed]",
      "text/plain": [
       "<Figure size 432x288 with 1 Axes>"
      ]
     },
     "metadata": {
      "needs_background": "light"
     },
     "output_type": "display_data"
    }
   ],
   "source": [
    "equation = linear_regression(Northern_hemisphere_df[\"Lat\"], Northern_hemisphere_df[\"Max Temp\"])\n",
    "annotate(equation, 0, 0)\n",
    "plt.title(\"Northern_hemisphere - Max Temp vs. Latitude Linear Regression\")\n",
    "plt.xlabel(\"Latitude\")\n",
    "plt.ylabel(\"Max Temp\")\n",
    "plt.savefig(\"output_data/Northern Hemisphere - Max Temp vs. Latitude Linear Regression.png\")"
   ]
  },
  {
   "cell_type": "markdown",
   "metadata": {},
   "source": [
    "### Northern Hemisphere - Max Temp vs. Latitude Linear Regression show that there is strong negative linear relationship betwen Max Temp and Latitude. When one variable increases while the other variable decreases(temp), a negative linear relationship exists."
   ]
  },
  {
   "cell_type": "markdown",
   "metadata": {},
   "source": [
    "####  Southern Hemisphere - Max Temp vs. Latitude Linear Regression"
   ]
  },
  {
   "cell_type": "code",
   "execution_count": 19,
   "metadata": {},
   "outputs": [
    {
     "name": "stdout",
     "output_type": "stream",
     "text": [
      "The r-value is : 0.2938596668993947\n"
     ]
    },
    {
     "data": {
      "image/png": "[encoded data removed]",
      "text/plain": [
       "<Figure size 432x288 with 1 Axes>"
      ]
     },
     "metadata": {
      "needs_background": "light"
     },
     "output_type": "display_data"
    }
   ],
   "source": [
    "equation = linear_regression(Southern_hemisphere_df[\"Lat\"],Southern_hemisphere_df[\"Max Temp\"])\n",
    "annotate(equation, -30, 50)\n",
    "plt.title(\"Southern Hemisphere - Max Temp vs. Latitude Linear Regression\")\n",
    "plt.xlabel(\"Latitude\")\n",
    "plt.ylabel(\"Max Temp\")\n",
    "plt.savefig(\"output_data/Southern Hemisphere - Max Temp vs. Latitude Linear Regression.png\")"
   ]
  },
  {
   "cell_type": "markdown",
   "metadata": {},
   "source": [
    "### Southern Hemisphere - Max Temp vs. Latitude Linear Regression , I found that there is a positive linear relationship, because both variables increase or decrease concurrently and at a constant rate, this case (Temp vs. Latitude)."
   ]
  },
  {
   "cell_type": "markdown",
   "metadata": {},
   "source": [
    "####  Northern Hemisphere - Humidity (%) vs. Latitude Linear Regression"
   ]
  },
  {
   "cell_type": "code",
   "execution_count": 20,
   "metadata": {},
   "outputs": [
    {
     "name": "stdout",
     "output_type": "stream",
     "text": [
      "The r-value is : 0.13374684702770037\n"
     ]
    },
    {
     "data": {
      "image/png": "[encoded data removed]",
      "text/plain": [
       "<Figure size 432x288 with 1 Axes>"
      ]
     },
     "metadata": {
      "needs_background": "light"
     },
     "output_type": "display_data"
    }
   ],
   "source": [
    "equation = linear_regression(Northern_hemisphere_df[\"Lat\"], Northern_hemisphere_df[\"Humidity\"])\n",
    "annotate(equation, 40, 15)\n",
    "plt.title(\"Northern Hemisphere - Humidity (%) vs. Latitude Linear Regression\")\n",
    "plt.xlabel(\"Latitude\")\n",
    "plt.ylabel(\"Humidity\")\n",
    "plt.savefig(\"output_data/Northern Hemisphere - Humidity (%) vs. Latitude Linear Regression.png\")"
   ]
  },
  {
   "cell_type": "markdown",
   "metadata": {},
   "source": [
    "### Northern Hemisphere - Humidity (%) vs. Latitude Linear Regression show us that meaning in the Northern Hemisphere as you get further away from the equator (latitude 0) humidity increases."
   ]
  },
  {
   "cell_type": "markdown",
   "metadata": {},
   "source": [
    "####  Southern Hemisphere - Humidity (%) vs. Latitude Linear Regression"
   ]
  },
  {
   "cell_type": "code",
   "execution_count": 21,
   "metadata": {},
   "outputs": [
    {
     "name": "stdout",
     "output_type": "stream",
     "text": [
      "The r-value is : 0.005469474217211529\n"
     ]
    },
    {
     "data": {
      "image/png": "[encoded data removed]",
      "text/plain": [
       "<Figure size 432x288 with 1 Axes>"
      ]
     },
     "metadata": {
      "needs_background": "light"
     },
     "output_type": "display_data"
    }
   ],
   "source": [
    "equation = linear_regression(Southern_hemisphere_df[\"Lat\"], Southern_hemisphere_df[\"Humidity\"])\n",
    "annotate(equation, -40, 50)\n",
    "plt.title(\"Southern Hemisphere - Humidity (%) vs. Latitude Linear Regression\")\n",
    "plt.xlabel(\"Latitude\")\n",
    "plt.ylabel(\"Humidity\")\n",
    "plt.savefig(\"output_data/Southern Hemisphere - Humidity (%) vs. Latitude Linear Regression.png\")"
   ]
  },
  {
   "cell_type": "markdown",
   "metadata": {},
   "source": [
    "### Southern Hemisphere - Humidity (%) vs. Latitude Linear Regression there does not seem to be a very strong correlation a slight negative correlation in the Southern Hemisphere."
   ]
  },
  {
   "cell_type": "markdown",
   "metadata": {},
   "source": [
    "####  Northern Hemisphere - Cloudiness (%) vs. Latitude Linear Regression"
   ]
  },
  {
   "cell_type": "code",
   "execution_count": 22,
   "metadata": {},
   "outputs": [
    {
     "name": "stdout",
     "output_type": "stream",
     "text": [
      "The r-value is : 0.04677082368318762\n"
     ]
    },
    {
     "data": {
      "image/png": "[encoded data removed]",
      "text/plain": [
       "<Figure size 432x288 with 1 Axes>"
      ]
     },
     "metadata": {
      "needs_background": "light"
     },
     "output_type": "display_data"
    }
   ],
   "source": [
    "equation = linear_regression(Northern_hemisphere_df[\"Lat\"], Northern_hemisphere_df[\"Cloudiness\"])\n",
    "annotate(equation, 30, 40)\n",
    "plt.title(\"Northern Hemisphere - Cloudiness (%) vs. Latitude Linear Regression\")\n",
    "plt.xlabel(\"Latitude\")\n",
    "plt.ylabel(\"Cloudiness\")\n",
    "plt.savefig(\"output_data/Northern Hemisphere - Cloudiness (%) vs. Latitude Linear Regression.png\")"
   ]
  },
  {
   "cell_type": "markdown",
   "metadata": {},
   "source": [
    "###  Northern Hemisphere - Cloudiness (%) vs. Latitude Linear Regression There does not seem to be much correlation . However, when the linear regression is performed, you can see that there is a slight positive correlation in the Northern Hemisphere."
   ]
  },
  {
   "cell_type": "markdown",
   "metadata": {},
   "source": [
    "####  Southern Hemisphere - Cloudiness (%) vs. Latitude Linear Regression"
   ]
  },
  {
   "cell_type": "code",
   "execution_count": 23,
   "metadata": {},
   "outputs": [
    {
     "name": "stdout",
     "output_type": "stream",
     "text": [
      "The r-value is : 0.05426206021558235\n"
     ]
    },
    {
     "data": {
      "image/png": "[encoded data removed]",
      "text/plain": [
       "<Figure size 432x288 with 1 Axes>"
      ]
     },
     "metadata": {
      "needs_background": "light"
     },
     "output_type": "display_data"
    }
   ],
   "source": [
    "equation = linear_regression(Southern_hemisphere_df[\"Lat\"], Southern_hemisphere_df[\"Cloudiness\"])\n",
    "annotate(equation, -30, 40)\n",
    "plt.title(\"Southern Hemisphere - Cloudiness (%) vs. Latitude Linear Regression\")\n",
    "plt.xlabel(\"Latitude\")\n",
    "plt.ylabel(\"Cloudiness\")\n",
    "plt.savefig(\"output_data/Southern Hemisphere - Cloudiness (%) vs. Latitude Linear Regression.png\")"
   ]
  },
  {
   "cell_type": "markdown",
   "metadata": {},
   "source": [
    "### Southern Hemisphere - Cloudiness (%) vs. Latitude Linear Regression there is a strong negative correlation in the Southern Hemisphere. it shows that the further you are from the equator (latitude 0) the less cloudy it is."
   ]
  },
  {
   "cell_type": "markdown",
   "metadata": {},
   "source": [
    "####  Northern Hemisphere - Wind Speed (mph) vs. Latitude Linear Regression"
   ]
  },
  {
   "cell_type": "code",
   "execution_count": 24,
   "metadata": {},
   "outputs": [
    {
     "name": "stdout",
     "output_type": "stream",
     "text": [
      "The r-value is : 0.00365169429185221\n"
     ]
    },
    {
     "data": {
      "image/png": "[encoded data removed]",
      "text/plain": [
       "<Figure size 432x288 with 1 Axes>"
      ]
     },
     "metadata": {
      "needs_background": "light"
     },
     "output_type": "display_data"
    }
   ],
   "source": [
    "equation = linear_regression(Northern_hemisphere_df[\"Lat\"], Northern_hemisphere_df[\"Wind Speed\"])\n",
    "annotate(equation, 40, 20)\n",
    "plt.title(\"Northern Hemisphere - Wind Speed (mph) vs. Latitude Linear Regression\")\n",
    "plt.xlabel(\"Latitude\")\n",
    "plt.ylabel(\"Wind Speed\")\n",
    "plt.savefig(\"output_data/Northern Hemisphere - Wind Speed vs. Latitude Linear Regression.png\")"
   ]
  },
  {
   "cell_type": "markdown",
   "metadata": {},
   "source": [
    "### Northern Hemisphere - Wind Speed (mph) vs. Latitude Linear Regression shows a much lower correlation. There does seem to be a pretty strong correlation between wind sped and latitude when you look at the plots."
   ]
  },
  {
   "cell_type": "markdown",
   "metadata": {},
   "source": [
    "####  Southern Hemisphere - Wind Speed (mph) vs. Latitude Linear Regression"
   ]
  },
  {
   "cell_type": "code",
   "execution_count": 25,
   "metadata": {},
   "outputs": [
    {
     "name": "stdout",
     "output_type": "stream",
     "text": [
      "The r-value is : 0.08102397955170429\n"
     ]
    },
    {
     "data": {
      "image/png": "[encoded data removed]",
      "text/plain": [
       "<Figure size 432x288 with 1 Axes>"
      ]
     },
     "metadata": {
      "needs_background": "light"
     },
     "output_type": "display_data"
    }
   ],
   "source": [
    "equation = linear_regression(Southern_hemisphere_df[\"Lat\"], Southern_hemisphere_df[\"Wind Speed\"])\n",
    "annotate(equation, -30, 15)\n",
    "plt.title(\"Southern Hemisphere - Wind Speed (mph) vs. Latitude Linear Regression\")\n",
    "plt.xlabel(\"Latitude\")\n",
    "plt.ylabel(\"Wind Speed\")\n",
    "plt.savefig(\"output_data/Southern Hemisphere - Wind Speed vs. Latitude Linear Regression.png\")"
   ]
  },
  {
   "cell_type": "markdown",
   "metadata": {},
   "source": [
    "### Southern Hemisphere - Wind Speed (mph) vs. Latitude Linear Regression there is negative linear relationship. but not as strong."
   ]
  }
 ],
 "metadata": {
  "anaconda-cloud": {},
  "kernel_info": {
   "name": "python3"
  },
  "kernelspec": {
   "display_name": "Python 3 (ipykernel)",
   "language": "python",
   "name": "python3"
  },
  "language_info": {
   "codemirror_mode": {
    "name": "ipython",
    "version": 3
   },
   "file_extension": ".py",
   "mimetype": "text/x-python",
   "name": "python",
   "nbconvert_exporter": "python",
   "pygments_lexer": "ipython3",
   "version": "3.10.0"
  },
  "latex_envs": {
   "LaTeX_envs_menu_present": true,
   "autoclose": false,
   "autocomplete": true,
   "bibliofile": "biblio.bib",
   "cite_by": "apalike",
   "current_citInitial": 1,
   "eqLabelWithNumbers": true,
   "eqNumInitial": 1,
   "hotkeys": {
    "equation": "Ctrl-E",
    "itemize": "Ctrl-I"
   },
   "labels_anchors": false,
   "latex_user_defs": false,
   "report_style_numbering": false,
   "user_envs_cfg": false
  },
  "nteract": {
   "version": "0.12.3"
  }
 },
 "nbformat": 4,
 "nbformat_minor": 2
}
